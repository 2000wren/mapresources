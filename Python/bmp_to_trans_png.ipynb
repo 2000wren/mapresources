{
 "cells": [
  {
   "cell_type": "markdown",
   "metadata": {},
   "source": [
    "Modified from: https://www.tutorialexample.com/python-convert-image-background-to-transparent-a-step-guide-python-pillow-tutorial/#:~:text=Convert%20the%20backgroud%20of%20an%20image%20transparent&text=png%20is%20white(255%2C%20255,pixels%20with%20white%20color%20transparent.&text=255%2C%200))-,img.,can%20make%20a%20pixel%20transparent."
   ]
  },
  {
   "cell_type": "markdown",
   "metadata": {},
   "source": [
    "This is code for making a .bmp a transparent .png everywhere where the color is NOT pure black"
   ]
  },
  {
   "cell_type": "code",
   "execution_count": 1,
   "metadata": {},
   "outputs": [],
   "source": [
    "from PIL import Image # only import needed"
   ]
  },
  {
   "cell_type": "code",
   "execution_count": 3,
   "metadata": {},
   "outputs": [],
   "source": [
    "im = Image.open(\"../images/Countries2019.bmp\") # open bmp"
   ]
  },
  {
   "cell_type": "code",
   "execution_count": 4,
   "metadata": {},
   "outputs": [],
   "source": [
    "img = im.convert(\"RGBA\") # add alpha layer"
   ]
  },
  {
   "cell_type": "code",
   "execution_count": 7,
   "metadata": {},
   "outputs": [],
   "source": [
    "width = img.size[0] \n",
    "height = img.size[1] \n",
    "for x in range(0,width):# process all pixels, converts all not black to transparent\n",
    "    for y in range(0,height):\n",
    "        data = img.getpixel((x, y))\n",
    "        if (data[0] != 0 and data[1] != 0 and data[2] != 0):\n",
    "            img.putpixel((x, y), (255, 255, 255, 0))"
   ]
  },
  {
   "cell_type": "code",
   "execution_count": 8,
   "metadata": {},
   "outputs": [],
   "source": [
    "img.save(\"../images/Countries2019_converted.png\", format=\"png\") # save it"
   ]
  }
 ],
 "metadata": {
  "interpreter": {
   "hash": "46f9523724918c3271417bacba7f64dd3548f4559dffc04abdf52203d9bbf526"
  },
  "kernelspec": {
   "display_name": "Python 3.9.12 64-bit (windows store)",
   "language": "python",
   "name": "python3"
  },
  "language_info": {
   "codemirror_mode": {
    "name": "ipython",
    "version": 3
   },
   "file_extension": ".py",
   "mimetype": "text/x-python",
   "name": "python",
   "nbconvert_exporter": "python",
   "pygments_lexer": "ipython3",
   "version": "3.9.13"
  },
  "orig_nbformat": 4
 },
 "nbformat": 4,
 "nbformat_minor": 2
}
